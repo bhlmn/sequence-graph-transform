{
 "cells": [
  {
   "cell_type": "markdown",
   "metadata": {},
   "source": [
    "## Algorithm 2 SGT features extractor\n"
   ]
  },
  {
   "cell_type": "code",
   "execution_count": 141,
   "metadata": {
    "collapsed": false
   },
   "outputs": [],
   "source": [
    "import numpy as np\n",
    "\n",
    "def getpositions(S, V):\n",
    "    \n",
    "    '''\n",
    "    compute index position of sequence S within V\n",
    "    \n",
    "    sequence S , space set V\n",
    "    \n",
    "    return list of tuples [(value, position)]\n",
    "    \n",
    "            [(209981, (array([8]),))(320033, (array([6]),)]\n",
    "    '''\n",
    "    \n",
    "    positions = [(v, np.where(S==v)) for v in V if v in S]\n",
    "    \n",
    "    return positions\n",
    "    \n",
    "    \n",
    "def sgt(S, V, ls, k =1):\n",
    "    \n",
    "    '''\n",
    "    \n",
    "    Extract Sequence Graph Transform features algorithm 2\n",
    "    \n",
    "    \n",
    "    S: sequence \n",
    "    V : set domain of all values\n",
    "    ls: is length sensitive \n",
    "    k: hyperparameter  defaults to 1 for supervised learning typically selected κ from {1, 5, 10}\n",
    "    \n",
    "    return: sgt matrix \n",
    "    \n",
    "    '''\n",
    "    \n",
    "    size  = V.shape[0]\n",
    "    l = 0\n",
    "    W0, Wk = np.zeros((size,size)),  np.zeros((size,size))\n",
    "    positions = getpositions(S,V)\n",
    "    \n",
    "    for i, u in enumerate(V):\n",
    "        try:\n",
    "            index = [p[0] for p in positions].index(u)\n",
    "    \n",
    "        except ValueError:\n",
    "            # move to next element\n",
    "            break\n",
    "        \n",
    "        U = np.array(positions[index][1]).ravel()\n",
    "        \n",
    "        for j, v in enumerate(V):\n",
    "            \n",
    "            try:\n",
    "                index = [p[0] for p in positions].index(v)\n",
    "            except ValueError:\n",
    "                # move to next element\n",
    "                break\n",
    "            \n",
    "            V2 = np.array(positions[index][1]).ravel()\n",
    "        \n",
    "            C = [(i,j) for i in U for j in V2 if j > i]\n",
    "            \n",
    "            W0[i,j] = len(C)\n",
    "        \n",
    "            cu = np.array([i[0] for i in C]) \n",
    "       \n",
    "            cv = np.array([i[1] for i in C]) \n",
    "       \n",
    "            Wk[i,j] = np.sum(np.exp(-k * np.abs(cu - cv)))\n",
    "        \n",
    "        l += U.shape[0]\n",
    "    \n",
    "    if ls:\n",
    "        W0 = np.divide(W0, l)\n",
    "        \n",
    "    print('Kappa')\n",
    "    print(Wk)\n",
    "    \n",
    "    print('Theta')\n",
    "    print(W0)\n",
    "    \n",
    "    temp = np.divide(Wk, W0)\n",
    "    \n",
    "    sgt = np.power(temp, (1/k))\n",
    "   \n",
    "  \n",
    "    \n",
    "    \n",
    "    return sgt"
   ]
  },
  {
   "cell_type": "markdown",
   "metadata": {},
   "source": [
    "## Test validation "
   ]
  },
  {
   "cell_type": "code",
   "execution_count": 143,
   "metadata": {
    "collapsed": false,
    "scrolled": true
   },
   "outputs": [
    {
     "name": "stdout",
     "output_type": "stream",
     "text": [
      "Kappa\n",
      "[[  6.87476068e-03   6.78334899e-03   1.34761999e-02]\n",
      " [  1.35216019e-02   6.73794700e-03   4.57079071e-05]\n",
      " [  1.35216040e-02   3.05916208e-07   4.53999298e-05]]\n",
      "theta\n",
      "[[ 1.   0.4  0.3]\n",
      " [ 1.1  0.3  0.4]\n",
      " [ 0.7  0.2  0.1]]\n"
     ]
    },
    {
     "data": {
      "text/plain": [
       "array([[ 0.36936141,  0.44246287,  0.53763711],\n",
       "       [ 0.41488439,  0.46803816,  0.16277446],\n",
       "       [ 0.45413611,  0.06869332,  0.21449197]])"
      ]
     },
     "execution_count": 143,
     "metadata": {},
     "output_type": "execute_result"
    }
   ],
   "source": [
    "sgt = sgt(S = np.array([\"B\",\"B\",\"A\",\"C\",\"A\",\"C\",\"A\",\"A\",\"B\",\"A\"]), V = np.array([\"A\", \"B\", \"C\"]), ls = True, k =5)\n",
    "sgt"
   ]
  }
 ],
 "metadata": {
  "kernelspec": {
   "display_name": "Python [conda env:py35]",
   "language": "python",
   "name": "conda-env-py35-py"
  },
  "language_info": {
   "codemirror_mode": {
    "name": "ipython",
    "version": 3
   },
   "file_extension": ".py",
   "mimetype": "text/x-python",
   "name": "python",
   "nbconvert_exporter": "python",
   "pygments_lexer": "ipython3",
   "version": "3.5.2"
  }
 },
 "nbformat": 4,
 "nbformat_minor": 2
}
